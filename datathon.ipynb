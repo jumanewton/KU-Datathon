{
  "nbformat": 4,
  "nbformat_minor": 0,
  "metadata": {
    "colab": {
      "provenance": [],
      "authorship_tag": "ABX9TyP9SefrZT8pBk/SyRBWB00S",
      "include_colab_link": true
    },
    "kernelspec": {
      "name": "python3",
      "display_name": "Python 3"
    },
    "language_info": {
      "name": "python"
    }
  },
  "cells": [
    {
      "cell_type": "markdown",
      "metadata": {
        "id": "view-in-github",
        "colab_type": "text"
      },
      "source": [
        "<a href=\"https://colab.research.google.com/github/jumanewton/KU-Datathon/blob/main/datathon.ipynb\" target=\"_parent\"><img src=\"https://colab.research.google.com/assets/colab-badge.svg\" alt=\"Open In Colab\"/></a>"
      ]
    },
    {
      "cell_type": "code",
      "execution_count": 35,
      "metadata": {
        "id": "8vYYIy1uzh4G"
      },
      "outputs": [],
      "source": [
        "#importing importatnt libraries\n",
        "%matplotlib inline\n",
        "import pandas as pd\n",
        "import matplotlib.pyplot as plt\n",
        "import seaborn as sns\n",
        "import numpy as np\n",
        "import datetime as dt\n",
        "#"
      ]
    },
    {
      "cell_type": "code",
      "source": [
        "df1=pd.read_csv('sample_data/Global Superstore.csv',encoding='Latin1')"
      ],
      "metadata": {
        "id": "l9fsNjpRzxdh"
      },
      "execution_count": 7,
      "outputs": []
    },
    {
      "cell_type": "code",
      "source": [
        "df1.info()"
      ],
      "metadata": {
        "colab": {
          "base_uri": "https://localhost:8080/"
        },
        "id": "y_0HPDr-KgI6",
        "outputId": "e33a0332-7208-43e1-c63a-65f394dfafc0"
      },
      "execution_count": 25,
      "outputs": [
        {
          "output_type": "stream",
          "name": "stdout",
          "text": [
            "<class 'pandas.core.frame.DataFrame'>\n",
            "RangeIndex: 51290 entries, 0 to 51289\n",
            "Data columns (total 24 columns):\n",
            " #   Column          Non-Null Count  Dtype  \n",
            "---  ------          --------------  -----  \n",
            " 0   Row ID          51290 non-null  int64  \n",
            " 1   Order ID        51290 non-null  object \n",
            " 2   Order Date      51290 non-null  object \n",
            " 3   Ship Date       51290 non-null  object \n",
            " 4   Ship Mode       51290 non-null  object \n",
            " 5   Customer ID     51290 non-null  object \n",
            " 6   Customer Name   51290 non-null  object \n",
            " 7   Segment         51290 non-null  object \n",
            " 8   City            51290 non-null  object \n",
            " 9   State           51290 non-null  object \n",
            " 10  Country         51290 non-null  object \n",
            " 11  Postal Code     9994 non-null   float64\n",
            " 12  Market          51290 non-null  object \n",
            " 13  Region          51290 non-null  object \n",
            " 14  Product ID      51290 non-null  object \n",
            " 15  Category        51290 non-null  object \n",
            " 16  Sub-Category    51290 non-null  object \n",
            " 17  Product Name    51290 non-null  object \n",
            " 18  Sales           51290 non-null  float64\n",
            " 19  Quantity        51290 non-null  int64  \n",
            " 20  Discount        51290 non-null  float64\n",
            " 21  Profit          51290 non-null  float64\n",
            " 22  Shipping Cost   51290 non-null  float64\n",
            " 23  Order Priority  51290 non-null  object \n",
            "dtypes: float64(5), int64(2), object(17)\n",
            "memory usage: 9.4+ MB\n"
          ]
        }
      ]
    },
    {
      "cell_type": "code",
      "source": [
        "### exploring Global Superstore.csv dataset\n",
        "df1.head()"
      ],
      "metadata": {
        "colab": {
          "base_uri": "https://localhost:8080/",
          "height": 602
        },
        "id": "I9upLZ3kz_yg",
        "outputId": "635893fe-3943-4f50-e963-20e6f486faf3"
      },
      "execution_count": 8,
      "outputs": [
        {
          "output_type": "execute_result",
          "data": {
            "text/plain": [
              "   Row ID         Order ID  Order Date   Ship Date     Ship Mode Customer ID  \\\n",
              "0   32298   CA-2012-124891  31-07-2012  31-07-2012      Same Day    RH-19495   \n",
              "1   26341    IN-2013-77878    5/2/2013    7/2/2013  Second Class    JR-16210   \n",
              "2   25330    IN-2013-71249  17-10-2013  18-10-2013   First Class    CR-12730   \n",
              "3   13524  ES-2013-1579342  28-01-2013  30-01-2013   First Class    KM-16375   \n",
              "4   47221     SG-2013-4320   5/11/2013   6/11/2013      Same Day     RH-9495   \n",
              "\n",
              "      Customer Name      Segment           City            State  ...  \\\n",
              "0       Rick Hansen     Consumer  New York City         New York  ...   \n",
              "1     Justin Ritter    Corporate     Wollongong  New South Wales  ...   \n",
              "2      Craig Reiter     Consumer       Brisbane       Queensland  ...   \n",
              "3  Katherine Murray  Home Office         Berlin           Berlin  ...   \n",
              "4       Rick Hansen     Consumer          Dakar            Dakar  ...   \n",
              "\n",
              "         Product ID    Category Sub-Category  \\\n",
              "0   TEC-AC-10003033  Technology  Accessories   \n",
              "1   FUR-CH-10003950   Furniture       Chairs   \n",
              "2   TEC-PH-10004664  Technology       Phones   \n",
              "3   TEC-PH-10004583  Technology       Phones   \n",
              "4  TEC-SHA-10000501  Technology      Copiers   \n",
              "\n",
              "                                        Product Name     Sales Quantity  \\\n",
              "0  Plantronics CS510 - Over-the-Head monaural Wir...  2309.650        7   \n",
              "1          Novimex Executive Leather Armchair, Black  3709.395        9   \n",
              "2                  Nokia Smart Phone, with Caller ID  5175.171        9   \n",
              "3                     Motorola Smart Phone, Cordless  2892.510        5   \n",
              "4                     Sharp Wireless Fax, High-Speed  2832.960        8   \n",
              "\n",
              "  Discount    Profit  Shipping Cost  Order Priority  \n",
              "0      0.0  762.1845         933.57        Critical  \n",
              "1      0.1 -288.7650         923.63        Critical  \n",
              "2      0.1  919.9710         915.49          Medium  \n",
              "3      0.1  -96.5400         910.16          Medium  \n",
              "4      0.0  311.5200         903.04        Critical  \n",
              "\n",
              "[5 rows x 24 columns]"
            ],
            "text/html": [
              "\n",
              "  <div id=\"df-1c7b0632-55e5-4d38-9f99-fa5b215b58dc\" class=\"colab-df-container\">\n",
              "    <div>\n",
              "<style scoped>\n",
              "    .dataframe tbody tr th:only-of-type {\n",
              "        vertical-align: middle;\n",
              "    }\n",
              "\n",
              "    .dataframe tbody tr th {\n",
              "        vertical-align: top;\n",
              "    }\n",
              "\n",
              "    .dataframe thead th {\n",
              "        text-align: right;\n",
              "    }\n",
              "</style>\n",
              "<table border=\"1\" class=\"dataframe\">\n",
              "  <thead>\n",
              "    <tr style=\"text-align: right;\">\n",
              "      <th></th>\n",
              "      <th>Row ID</th>\n",
              "      <th>Order ID</th>\n",
              "      <th>Order Date</th>\n",
              "      <th>Ship Date</th>\n",
              "      <th>Ship Mode</th>\n",
              "      <th>Customer ID</th>\n",
              "      <th>Customer Name</th>\n",
              "      <th>Segment</th>\n",
              "      <th>City</th>\n",
              "      <th>State</th>\n",
              "      <th>...</th>\n",
              "      <th>Product ID</th>\n",
              "      <th>Category</th>\n",
              "      <th>Sub-Category</th>\n",
              "      <th>Product Name</th>\n",
              "      <th>Sales</th>\n",
              "      <th>Quantity</th>\n",
              "      <th>Discount</th>\n",
              "      <th>Profit</th>\n",
              "      <th>Shipping Cost</th>\n",
              "      <th>Order Priority</th>\n",
              "    </tr>\n",
              "  </thead>\n",
              "  <tbody>\n",
              "    <tr>\n",
              "      <th>0</th>\n",
              "      <td>32298</td>\n",
              "      <td>CA-2012-124891</td>\n",
              "      <td>31-07-2012</td>\n",
              "      <td>31-07-2012</td>\n",
              "      <td>Same Day</td>\n",
              "      <td>RH-19495</td>\n",
              "      <td>Rick Hansen</td>\n",
              "      <td>Consumer</td>\n",
              "      <td>New York City</td>\n",
              "      <td>New York</td>\n",
              "      <td>...</td>\n",
              "      <td>TEC-AC-10003033</td>\n",
              "      <td>Technology</td>\n",
              "      <td>Accessories</td>\n",
              "      <td>Plantronics CS510 - Over-the-Head monaural Wir...</td>\n",
              "      <td>2309.650</td>\n",
              "      <td>7</td>\n",
              "      <td>0.0</td>\n",
              "      <td>762.1845</td>\n",
              "      <td>933.57</td>\n",
              "      <td>Critical</td>\n",
              "    </tr>\n",
              "    <tr>\n",
              "      <th>1</th>\n",
              "      <td>26341</td>\n",
              "      <td>IN-2013-77878</td>\n",
              "      <td>5/2/2013</td>\n",
              "      <td>7/2/2013</td>\n",
              "      <td>Second Class</td>\n",
              "      <td>JR-16210</td>\n",
              "      <td>Justin Ritter</td>\n",
              "      <td>Corporate</td>\n",
              "      <td>Wollongong</td>\n",
              "      <td>New South Wales</td>\n",
              "      <td>...</td>\n",
              "      <td>FUR-CH-10003950</td>\n",
              "      <td>Furniture</td>\n",
              "      <td>Chairs</td>\n",
              "      <td>Novimex Executive Leather Armchair, Black</td>\n",
              "      <td>3709.395</td>\n",
              "      <td>9</td>\n",
              "      <td>0.1</td>\n",
              "      <td>-288.7650</td>\n",
              "      <td>923.63</td>\n",
              "      <td>Critical</td>\n",
              "    </tr>\n",
              "    <tr>\n",
              "      <th>2</th>\n",
              "      <td>25330</td>\n",
              "      <td>IN-2013-71249</td>\n",
              "      <td>17-10-2013</td>\n",
              "      <td>18-10-2013</td>\n",
              "      <td>First Class</td>\n",
              "      <td>CR-12730</td>\n",
              "      <td>Craig Reiter</td>\n",
              "      <td>Consumer</td>\n",
              "      <td>Brisbane</td>\n",
              "      <td>Queensland</td>\n",
              "      <td>...</td>\n",
              "      <td>TEC-PH-10004664</td>\n",
              "      <td>Technology</td>\n",
              "      <td>Phones</td>\n",
              "      <td>Nokia Smart Phone, with Caller ID</td>\n",
              "      <td>5175.171</td>\n",
              "      <td>9</td>\n",
              "      <td>0.1</td>\n",
              "      <td>919.9710</td>\n",
              "      <td>915.49</td>\n",
              "      <td>Medium</td>\n",
              "    </tr>\n",
              "    <tr>\n",
              "      <th>3</th>\n",
              "      <td>13524</td>\n",
              "      <td>ES-2013-1579342</td>\n",
              "      <td>28-01-2013</td>\n",
              "      <td>30-01-2013</td>\n",
              "      <td>First Class</td>\n",
              "      <td>KM-16375</td>\n",
              "      <td>Katherine Murray</td>\n",
              "      <td>Home Office</td>\n",
              "      <td>Berlin</td>\n",
              "      <td>Berlin</td>\n",
              "      <td>...</td>\n",
              "      <td>TEC-PH-10004583</td>\n",
              "      <td>Technology</td>\n",
              "      <td>Phones</td>\n",
              "      <td>Motorola Smart Phone, Cordless</td>\n",
              "      <td>2892.510</td>\n",
              "      <td>5</td>\n",
              "      <td>0.1</td>\n",
              "      <td>-96.5400</td>\n",
              "      <td>910.16</td>\n",
              "      <td>Medium</td>\n",
              "    </tr>\n",
              "    <tr>\n",
              "      <th>4</th>\n",
              "      <td>47221</td>\n",
              "      <td>SG-2013-4320</td>\n",
              "      <td>5/11/2013</td>\n",
              "      <td>6/11/2013</td>\n",
              "      <td>Same Day</td>\n",
              "      <td>RH-9495</td>\n",
              "      <td>Rick Hansen</td>\n",
              "      <td>Consumer</td>\n",
              "      <td>Dakar</td>\n",
              "      <td>Dakar</td>\n",
              "      <td>...</td>\n",
              "      <td>TEC-SHA-10000501</td>\n",
              "      <td>Technology</td>\n",
              "      <td>Copiers</td>\n",
              "      <td>Sharp Wireless Fax, High-Speed</td>\n",
              "      <td>2832.960</td>\n",
              "      <td>8</td>\n",
              "      <td>0.0</td>\n",
              "      <td>311.5200</td>\n",
              "      <td>903.04</td>\n",
              "      <td>Critical</td>\n",
              "    </tr>\n",
              "  </tbody>\n",
              "</table>\n",
              "<p>5 rows × 24 columns</p>\n",
              "</div>\n",
              "    <div class=\"colab-df-buttons\">\n",
              "\n",
              "  <div class=\"colab-df-container\">\n",
              "    <button class=\"colab-df-convert\" onclick=\"convertToInteractive('df-1c7b0632-55e5-4d38-9f99-fa5b215b58dc')\"\n",
              "            title=\"Convert this dataframe to an interactive table.\"\n",
              "            style=\"display:none;\">\n",
              "\n",
              "  <svg xmlns=\"http://www.w3.org/2000/svg\" height=\"24px\" viewBox=\"0 -960 960 960\">\n",
              "    <path d=\"M120-120v-720h720v720H120Zm60-500h600v-160H180v160Zm220 220h160v-160H400v160Zm0 220h160v-160H400v160ZM180-400h160v-160H180v160Zm440 0h160v-160H620v160ZM180-180h160v-160H180v160Zm440 0h160v-160H620v160Z\"/>\n",
              "  </svg>\n",
              "    </button>\n",
              "\n",
              "  <style>\n",
              "    .colab-df-container {\n",
              "      display:flex;\n",
              "      gap: 12px;\n",
              "    }\n",
              "\n",
              "    .colab-df-convert {\n",
              "      background-color: #E8F0FE;\n",
              "      border: none;\n",
              "      border-radius: 50%;\n",
              "      cursor: pointer;\n",
              "      display: none;\n",
              "      fill: #1967D2;\n",
              "      height: 32px;\n",
              "      padding: 0 0 0 0;\n",
              "      width: 32px;\n",
              "    }\n",
              "\n",
              "    .colab-df-convert:hover {\n",
              "      background-color: #E2EBFA;\n",
              "      box-shadow: 0px 1px 2px rgba(60, 64, 67, 0.3), 0px 1px 3px 1px rgba(60, 64, 67, 0.15);\n",
              "      fill: #174EA6;\n",
              "    }\n",
              "\n",
              "    .colab-df-buttons div {\n",
              "      margin-bottom: 4px;\n",
              "    }\n",
              "\n",
              "    [theme=dark] .colab-df-convert {\n",
              "      background-color: #3B4455;\n",
              "      fill: #D2E3FC;\n",
              "    }\n",
              "\n",
              "    [theme=dark] .colab-df-convert:hover {\n",
              "      background-color: #434B5C;\n",
              "      box-shadow: 0px 1px 3px 1px rgba(0, 0, 0, 0.15);\n",
              "      filter: drop-shadow(0px 1px 2px rgba(0, 0, 0, 0.3));\n",
              "      fill: #FFFFFF;\n",
              "    }\n",
              "  </style>\n",
              "\n",
              "    <script>\n",
              "      const buttonEl =\n",
              "        document.querySelector('#df-1c7b0632-55e5-4d38-9f99-fa5b215b58dc button.colab-df-convert');\n",
              "      buttonEl.style.display =\n",
              "        google.colab.kernel.accessAllowed ? 'block' : 'none';\n",
              "\n",
              "      async function convertToInteractive(key) {\n",
              "        const element = document.querySelector('#df-1c7b0632-55e5-4d38-9f99-fa5b215b58dc');\n",
              "        const dataTable =\n",
              "          await google.colab.kernel.invokeFunction('convertToInteractive',\n",
              "                                                    [key], {});\n",
              "        if (!dataTable) return;\n",
              "\n",
              "        const docLinkHtml = 'Like what you see? Visit the ' +\n",
              "          '<a target=\"_blank\" href=https://colab.research.google.com/notebooks/data_table.ipynb>data table notebook</a>'\n",
              "          + ' to learn more about interactive tables.';\n",
              "        element.innerHTML = '';\n",
              "        dataTable['output_type'] = 'display_data';\n",
              "        await google.colab.output.renderOutput(dataTable, element);\n",
              "        const docLink = document.createElement('div');\n",
              "        docLink.innerHTML = docLinkHtml;\n",
              "        element.appendChild(docLink);\n",
              "      }\n",
              "    </script>\n",
              "  </div>\n",
              "\n",
              "\n",
              "<div id=\"df-37b6d717-ac19-4396-8b59-babd2e35d5d0\">\n",
              "  <button class=\"colab-df-quickchart\" onclick=\"quickchart('df-37b6d717-ac19-4396-8b59-babd2e35d5d0')\"\n",
              "            title=\"Suggest charts\"\n",
              "            style=\"display:none;\">\n",
              "\n",
              "<svg xmlns=\"http://www.w3.org/2000/svg\" height=\"24px\"viewBox=\"0 0 24 24\"\n",
              "     width=\"24px\">\n",
              "    <g>\n",
              "        <path d=\"M19 3H5c-1.1 0-2 .9-2 2v14c0 1.1.9 2 2 2h14c1.1 0 2-.9 2-2V5c0-1.1-.9-2-2-2zM9 17H7v-7h2v7zm4 0h-2V7h2v10zm4 0h-2v-4h2v4z\"/>\n",
              "    </g>\n",
              "</svg>\n",
              "  </button>\n",
              "\n",
              "<style>\n",
              "  .colab-df-quickchart {\n",
              "      --bg-color: #E8F0FE;\n",
              "      --fill-color: #1967D2;\n",
              "      --hover-bg-color: #E2EBFA;\n",
              "      --hover-fill-color: #174EA6;\n",
              "      --disabled-fill-color: #AAA;\n",
              "      --disabled-bg-color: #DDD;\n",
              "  }\n",
              "\n",
              "  [theme=dark] .colab-df-quickchart {\n",
              "      --bg-color: #3B4455;\n",
              "      --fill-color: #D2E3FC;\n",
              "      --hover-bg-color: #434B5C;\n",
              "      --hover-fill-color: #FFFFFF;\n",
              "      --disabled-bg-color: #3B4455;\n",
              "      --disabled-fill-color: #666;\n",
              "  }\n",
              "\n",
              "  .colab-df-quickchart {\n",
              "    background-color: var(--bg-color);\n",
              "    border: none;\n",
              "    border-radius: 50%;\n",
              "    cursor: pointer;\n",
              "    display: none;\n",
              "    fill: var(--fill-color);\n",
              "    height: 32px;\n",
              "    padding: 0;\n",
              "    width: 32px;\n",
              "  }\n",
              "\n",
              "  .colab-df-quickchart:hover {\n",
              "    background-color: var(--hover-bg-color);\n",
              "    box-shadow: 0 1px 2px rgba(60, 64, 67, 0.3), 0 1px 3px 1px rgba(60, 64, 67, 0.15);\n",
              "    fill: var(--button-hover-fill-color);\n",
              "  }\n",
              "\n",
              "  .colab-df-quickchart-complete:disabled,\n",
              "  .colab-df-quickchart-complete:disabled:hover {\n",
              "    background-color: var(--disabled-bg-color);\n",
              "    fill: var(--disabled-fill-color);\n",
              "    box-shadow: none;\n",
              "  }\n",
              "\n",
              "  .colab-df-spinner {\n",
              "    border: 2px solid var(--fill-color);\n",
              "    border-color: transparent;\n",
              "    border-bottom-color: var(--fill-color);\n",
              "    animation:\n",
              "      spin 1s steps(1) infinite;\n",
              "  }\n",
              "\n",
              "  @keyframes spin {\n",
              "    0% {\n",
              "      border-color: transparent;\n",
              "      border-bottom-color: var(--fill-color);\n",
              "      border-left-color: var(--fill-color);\n",
              "    }\n",
              "    20% {\n",
              "      border-color: transparent;\n",
              "      border-left-color: var(--fill-color);\n",
              "      border-top-color: var(--fill-color);\n",
              "    }\n",
              "    30% {\n",
              "      border-color: transparent;\n",
              "      border-left-color: var(--fill-color);\n",
              "      border-top-color: var(--fill-color);\n",
              "      border-right-color: var(--fill-color);\n",
              "    }\n",
              "    40% {\n",
              "      border-color: transparent;\n",
              "      border-right-color: var(--fill-color);\n",
              "      border-top-color: var(--fill-color);\n",
              "    }\n",
              "    60% {\n",
              "      border-color: transparent;\n",
              "      border-right-color: var(--fill-color);\n",
              "    }\n",
              "    80% {\n",
              "      border-color: transparent;\n",
              "      border-right-color: var(--fill-color);\n",
              "      border-bottom-color: var(--fill-color);\n",
              "    }\n",
              "    90% {\n",
              "      border-color: transparent;\n",
              "      border-bottom-color: var(--fill-color);\n",
              "    }\n",
              "  }\n",
              "</style>\n",
              "\n",
              "  <script>\n",
              "    async function quickchart(key) {\n",
              "      const quickchartButtonEl =\n",
              "        document.querySelector('#' + key + ' button');\n",
              "      quickchartButtonEl.disabled = true;  // To prevent multiple clicks.\n",
              "      quickchartButtonEl.classList.add('colab-df-spinner');\n",
              "      try {\n",
              "        const charts = await google.colab.kernel.invokeFunction(\n",
              "            'suggestCharts', [key], {});\n",
              "      } catch (error) {\n",
              "        console.error('Error during call to suggestCharts:', error);\n",
              "      }\n",
              "      quickchartButtonEl.classList.remove('colab-df-spinner');\n",
              "      quickchartButtonEl.classList.add('colab-df-quickchart-complete');\n",
              "    }\n",
              "    (() => {\n",
              "      let quickchartButtonEl =\n",
              "        document.querySelector('#df-37b6d717-ac19-4396-8b59-babd2e35d5d0 button');\n",
              "      quickchartButtonEl.style.display =\n",
              "        google.colab.kernel.accessAllowed ? 'block' : 'none';\n",
              "    })();\n",
              "  </script>\n",
              "</div>\n",
              "\n",
              "    </div>\n",
              "  </div>\n"
            ],
            "application/vnd.google.colaboratory.intrinsic+json": {
              "type": "dataframe",
              "variable_name": "df1"
            }
          },
          "metadata": {},
          "execution_count": 8
        }
      ]
    },
    {
      "cell_type": "markdown",
      "source": [
        "## Customer Analysis"
      ],
      "metadata": {
        "id": "z_TtBJm2-JTk"
      }
    },
    {
      "cell_type": "code",
      "source": [
        "df1.info()"
      ],
      "metadata": {
        "colab": {
          "base_uri": "https://localhost:8080/"
        },
        "id": "Q_wx6sx60ZVZ",
        "outputId": "8c057385-3d02-4b08-8b4a-cacb268bfff4"
      },
      "execution_count": 9,
      "outputs": [
        {
          "output_type": "stream",
          "name": "stdout",
          "text": [
            "<class 'pandas.core.frame.DataFrame'>\n",
            "RangeIndex: 51290 entries, 0 to 51289\n",
            "Data columns (total 24 columns):\n",
            " #   Column          Non-Null Count  Dtype  \n",
            "---  ------          --------------  -----  \n",
            " 0   Row ID          51290 non-null  int64  \n",
            " 1   Order ID        51290 non-null  object \n",
            " 2   Order Date      51290 non-null  object \n",
            " 3   Ship Date       51290 non-null  object \n",
            " 4   Ship Mode       51290 non-null  object \n",
            " 5   Customer ID     51290 non-null  object \n",
            " 6   Customer Name   51290 non-null  object \n",
            " 7   Segment         51290 non-null  object \n",
            " 8   City            51290 non-null  object \n",
            " 9   State           51290 non-null  object \n",
            " 10  Country         51290 non-null  object \n",
            " 11  Postal Code     9994 non-null   float64\n",
            " 12  Market          51290 non-null  object \n",
            " 13  Region          51290 non-null  object \n",
            " 14  Product ID      51290 non-null  object \n",
            " 15  Category        51290 non-null  object \n",
            " 16  Sub-Category    51290 non-null  object \n",
            " 17  Product Name    51290 non-null  object \n",
            " 18  Sales           51290 non-null  float64\n",
            " 19  Quantity        51290 non-null  int64  \n",
            " 20  Discount        51290 non-null  float64\n",
            " 21  Profit          51290 non-null  float64\n",
            " 22  Shipping Cost   51290 non-null  float64\n",
            " 23  Order Priority  51290 non-null  object \n",
            "dtypes: float64(5), int64(2), object(17)\n",
            "memory usage: 9.4+ MB\n"
          ]
        }
      ]
    },
    {
      "cell_type": "code",
      "source": [
        "# The dataset above, Global Superstore.csv, has 24 columns and 51290 rows\n",
        "# the dataset has 3 data types, text objects(17 columns), two integer columns and five float data types columns\n",
        "# we have missing values from the postal code column"
      ],
      "metadata": {
        "id": "VA0PnUrQ0i1X"
      },
      "execution_count": 10,
      "outputs": []
    },
    {
      "cell_type": "code",
      "source": [
        "df1.tail()"
      ],
      "metadata": {
        "colab": {
          "base_uri": "https://localhost:8080/",
          "height": 0
        },
        "id": "Kgv2AkHR0src",
        "outputId": "a2d55bcb-4982-4db1-8616-88baac99137f"
      },
      "execution_count": 11,
      "outputs": [
        {
          "output_type": "execute_result",
          "data": {
            "text/plain": [
              "       Row ID        Order ID  Order Date   Ship Date       Ship Mode  \\\n",
              "51285   29002   IN-2014-62366  19-06-2014  19-06-2014        Same Day   \n",
              "51286   35398  US-2014-102288  20-06-2014  24-06-2014  Standard Class   \n",
              "51287   40470  US-2013-155768   2/12/2013   2/12/2013        Same Day   \n",
              "51288    9596  MX-2012-140767  18-02-2012  22-02-2012  Standard Class   \n",
              "51289    6147  MX-2012-134460  22-05-2012  26-05-2012    Second Class   \n",
              "\n",
              "      Customer ID     Customer Name      Segment      City       State  ...  \\\n",
              "51285    KE-16420   Katrina Edelman    Corporate      Kure   Hiroshima  ...   \n",
              "51286    ZC-21910  Zuschuss Carroll     Consumer   Houston       Texas  ...   \n",
              "51287    LB-16795    Laurel Beltran  Home Office    Oxnard  California  ...   \n",
              "51288    RB-19795        Ross Baird  Home Office  Valinhos   São Paulo  ...   \n",
              "51289    MC-18100     Mick Crebagga     Consumer  Tipitapa     Managua  ...   \n",
              "\n",
              "            Product ID         Category Sub-Category  \\\n",
              "51285  OFF-FA-10000746  Office Supplies    Fasteners   \n",
              "51286  OFF-AP-10002906  Office Supplies   Appliances   \n",
              "51287  OFF-EN-10001219  Office Supplies    Envelopes   \n",
              "51288  OFF-BI-10000806  Office Supplies      Binders   \n",
              "51289  OFF-PA-10004155  Office Supplies        Paper   \n",
              "\n",
              "                                            Product Name   Sales Quantity  \\\n",
              "51285                      Advantus Thumb Tacks, 12 Pack  65.100        5   \n",
              "51286  Hoover Replacement Belt for Commercial Guardsm...   0.444        1   \n",
              "51287       #10- 4 1/8\" x 9 1/2\" Security-Tint Envelopes  22.920        3   \n",
              "51288                            Acco Index Tab, Economy  13.440        2   \n",
              "51289            Eaton Computer Printout Paper, 8.5 x 11  61.380        3   \n",
              "\n",
              "      Discount   Profit  Shipping Cost  Order Priority  \n",
              "51285      0.0   4.5000           0.01          Medium  \n",
              "51286      0.8  -1.1100           0.01          Medium  \n",
              "51287      0.0  11.2308           0.01            High  \n",
              "51288      0.0   2.4000           0.00          Medium  \n",
              "51289      0.0   1.8000           0.00            High  \n",
              "\n",
              "[5 rows x 24 columns]"
            ],
            "text/html": [
              "\n",
              "  <div id=\"df-6b8ed6a7-f0a3-4aeb-ab36-9947914f092f\" class=\"colab-df-container\">\n",
              "    <div>\n",
              "<style scoped>\n",
              "    .dataframe tbody tr th:only-of-type {\n",
              "        vertical-align: middle;\n",
              "    }\n",
              "\n",
              "    .dataframe tbody tr th {\n",
              "        vertical-align: top;\n",
              "    }\n",
              "\n",
              "    .dataframe thead th {\n",
              "        text-align: right;\n",
              "    }\n",
              "</style>\n",
              "<table border=\"1\" class=\"dataframe\">\n",
              "  <thead>\n",
              "    <tr style=\"text-align: right;\">\n",
              "      <th></th>\n",
              "      <th>Row ID</th>\n",
              "      <th>Order ID</th>\n",
              "      <th>Order Date</th>\n",
              "      <th>Ship Date</th>\n",
              "      <th>Ship Mode</th>\n",
              "      <th>Customer ID</th>\n",
              "      <th>Customer Name</th>\n",
              "      <th>Segment</th>\n",
              "      <th>City</th>\n",
              "      <th>State</th>\n",
              "      <th>...</th>\n",
              "      <th>Product ID</th>\n",
              "      <th>Category</th>\n",
              "      <th>Sub-Category</th>\n",
              "      <th>Product Name</th>\n",
              "      <th>Sales</th>\n",
              "      <th>Quantity</th>\n",
              "      <th>Discount</th>\n",
              "      <th>Profit</th>\n",
              "      <th>Shipping Cost</th>\n",
              "      <th>Order Priority</th>\n",
              "    </tr>\n",
              "  </thead>\n",
              "  <tbody>\n",
              "    <tr>\n",
              "      <th>51285</th>\n",
              "      <td>29002</td>\n",
              "      <td>IN-2014-62366</td>\n",
              "      <td>19-06-2014</td>\n",
              "      <td>19-06-2014</td>\n",
              "      <td>Same Day</td>\n",
              "      <td>KE-16420</td>\n",
              "      <td>Katrina Edelman</td>\n",
              "      <td>Corporate</td>\n",
              "      <td>Kure</td>\n",
              "      <td>Hiroshima</td>\n",
              "      <td>...</td>\n",
              "      <td>OFF-FA-10000746</td>\n",
              "      <td>Office Supplies</td>\n",
              "      <td>Fasteners</td>\n",
              "      <td>Advantus Thumb Tacks, 12 Pack</td>\n",
              "      <td>65.100</td>\n",
              "      <td>5</td>\n",
              "      <td>0.0</td>\n",
              "      <td>4.5000</td>\n",
              "      <td>0.01</td>\n",
              "      <td>Medium</td>\n",
              "    </tr>\n",
              "    <tr>\n",
              "      <th>51286</th>\n",
              "      <td>35398</td>\n",
              "      <td>US-2014-102288</td>\n",
              "      <td>20-06-2014</td>\n",
              "      <td>24-06-2014</td>\n",
              "      <td>Standard Class</td>\n",
              "      <td>ZC-21910</td>\n",
              "      <td>Zuschuss Carroll</td>\n",
              "      <td>Consumer</td>\n",
              "      <td>Houston</td>\n",
              "      <td>Texas</td>\n",
              "      <td>...</td>\n",
              "      <td>OFF-AP-10002906</td>\n",
              "      <td>Office Supplies</td>\n",
              "      <td>Appliances</td>\n",
              "      <td>Hoover Replacement Belt for Commercial Guardsm...</td>\n",
              "      <td>0.444</td>\n",
              "      <td>1</td>\n",
              "      <td>0.8</td>\n",
              "      <td>-1.1100</td>\n",
              "      <td>0.01</td>\n",
              "      <td>Medium</td>\n",
              "    </tr>\n",
              "    <tr>\n",
              "      <th>51287</th>\n",
              "      <td>40470</td>\n",
              "      <td>US-2013-155768</td>\n",
              "      <td>2/12/2013</td>\n",
              "      <td>2/12/2013</td>\n",
              "      <td>Same Day</td>\n",
              "      <td>LB-16795</td>\n",
              "      <td>Laurel Beltran</td>\n",
              "      <td>Home Office</td>\n",
              "      <td>Oxnard</td>\n",
              "      <td>California</td>\n",
              "      <td>...</td>\n",
              "      <td>OFF-EN-10001219</td>\n",
              "      <td>Office Supplies</td>\n",
              "      <td>Envelopes</td>\n",
              "      <td>#10- 4 1/8\" x 9 1/2\" Security-Tint Envelopes</td>\n",
              "      <td>22.920</td>\n",
              "      <td>3</td>\n",
              "      <td>0.0</td>\n",
              "      <td>11.2308</td>\n",
              "      <td>0.01</td>\n",
              "      <td>High</td>\n",
              "    </tr>\n",
              "    <tr>\n",
              "      <th>51288</th>\n",
              "      <td>9596</td>\n",
              "      <td>MX-2012-140767</td>\n",
              "      <td>18-02-2012</td>\n",
              "      <td>22-02-2012</td>\n",
              "      <td>Standard Class</td>\n",
              "      <td>RB-19795</td>\n",
              "      <td>Ross Baird</td>\n",
              "      <td>Home Office</td>\n",
              "      <td>Valinhos</td>\n",
              "      <td>São Paulo</td>\n",
              "      <td>...</td>\n",
              "      <td>OFF-BI-10000806</td>\n",
              "      <td>Office Supplies</td>\n",
              "      <td>Binders</td>\n",
              "      <td>Acco Index Tab, Economy</td>\n",
              "      <td>13.440</td>\n",
              "      <td>2</td>\n",
              "      <td>0.0</td>\n",
              "      <td>2.4000</td>\n",
              "      <td>0.00</td>\n",
              "      <td>Medium</td>\n",
              "    </tr>\n",
              "    <tr>\n",
              "      <th>51289</th>\n",
              "      <td>6147</td>\n",
              "      <td>MX-2012-134460</td>\n",
              "      <td>22-05-2012</td>\n",
              "      <td>26-05-2012</td>\n",
              "      <td>Second Class</td>\n",
              "      <td>MC-18100</td>\n",
              "      <td>Mick Crebagga</td>\n",
              "      <td>Consumer</td>\n",
              "      <td>Tipitapa</td>\n",
              "      <td>Managua</td>\n",
              "      <td>...</td>\n",
              "      <td>OFF-PA-10004155</td>\n",
              "      <td>Office Supplies</td>\n",
              "      <td>Paper</td>\n",
              "      <td>Eaton Computer Printout Paper, 8.5 x 11</td>\n",
              "      <td>61.380</td>\n",
              "      <td>3</td>\n",
              "      <td>0.0</td>\n",
              "      <td>1.8000</td>\n",
              "      <td>0.00</td>\n",
              "      <td>High</td>\n",
              "    </tr>\n",
              "  </tbody>\n",
              "</table>\n",
              "<p>5 rows × 24 columns</p>\n",
              "</div>\n",
              "    <div class=\"colab-df-buttons\">\n",
              "\n",
              "  <div class=\"colab-df-container\">\n",
              "    <button class=\"colab-df-convert\" onclick=\"convertToInteractive('df-6b8ed6a7-f0a3-4aeb-ab36-9947914f092f')\"\n",
              "            title=\"Convert this dataframe to an interactive table.\"\n",
              "            style=\"display:none;\">\n",
              "\n",
              "  <svg xmlns=\"http://www.w3.org/2000/svg\" height=\"24px\" viewBox=\"0 -960 960 960\">\n",
              "    <path d=\"M120-120v-720h720v720H120Zm60-500h600v-160H180v160Zm220 220h160v-160H400v160Zm0 220h160v-160H400v160ZM180-400h160v-160H180v160Zm440 0h160v-160H620v160ZM180-180h160v-160H180v160Zm440 0h160v-160H620v160Z\"/>\n",
              "  </svg>\n",
              "    </button>\n",
              "\n",
              "  <style>\n",
              "    .colab-df-container {\n",
              "      display:flex;\n",
              "      gap: 12px;\n",
              "    }\n",
              "\n",
              "    .colab-df-convert {\n",
              "      background-color: #E8F0FE;\n",
              "      border: none;\n",
              "      border-radius: 50%;\n",
              "      cursor: pointer;\n",
              "      display: none;\n",
              "      fill: #1967D2;\n",
              "      height: 32px;\n",
              "      padding: 0 0 0 0;\n",
              "      width: 32px;\n",
              "    }\n",
              "\n",
              "    .colab-df-convert:hover {\n",
              "      background-color: #E2EBFA;\n",
              "      box-shadow: 0px 1px 2px rgba(60, 64, 67, 0.3), 0px 1px 3px 1px rgba(60, 64, 67, 0.15);\n",
              "      fill: #174EA6;\n",
              "    }\n",
              "\n",
              "    .colab-df-buttons div {\n",
              "      margin-bottom: 4px;\n",
              "    }\n",
              "\n",
              "    [theme=dark] .colab-df-convert {\n",
              "      background-color: #3B4455;\n",
              "      fill: #D2E3FC;\n",
              "    }\n",
              "\n",
              "    [theme=dark] .colab-df-convert:hover {\n",
              "      background-color: #434B5C;\n",
              "      box-shadow: 0px 1px 3px 1px rgba(0, 0, 0, 0.15);\n",
              "      filter: drop-shadow(0px 1px 2px rgba(0, 0, 0, 0.3));\n",
              "      fill: #FFFFFF;\n",
              "    }\n",
              "  </style>\n",
              "\n",
              "    <script>\n",
              "      const buttonEl =\n",
              "        document.querySelector('#df-6b8ed6a7-f0a3-4aeb-ab36-9947914f092f button.colab-df-convert');\n",
              "      buttonEl.style.display =\n",
              "        google.colab.kernel.accessAllowed ? 'block' : 'none';\n",
              "\n",
              "      async function convertToInteractive(key) {\n",
              "        const element = document.querySelector('#df-6b8ed6a7-f0a3-4aeb-ab36-9947914f092f');\n",
              "        const dataTable =\n",
              "          await google.colab.kernel.invokeFunction('convertToInteractive',\n",
              "                                                    [key], {});\n",
              "        if (!dataTable) return;\n",
              "\n",
              "        const docLinkHtml = 'Like what you see? Visit the ' +\n",
              "          '<a target=\"_blank\" href=https://colab.research.google.com/notebooks/data_table.ipynb>data table notebook</a>'\n",
              "          + ' to learn more about interactive tables.';\n",
              "        element.innerHTML = '';\n",
              "        dataTable['output_type'] = 'display_data';\n",
              "        await google.colab.output.renderOutput(dataTable, element);\n",
              "        const docLink = document.createElement('div');\n",
              "        docLink.innerHTML = docLinkHtml;\n",
              "        element.appendChild(docLink);\n",
              "      }\n",
              "    </script>\n",
              "  </div>\n",
              "\n",
              "\n",
              "<div id=\"df-a207ad3f-daa3-4acb-8565-9858ff989836\">\n",
              "  <button class=\"colab-df-quickchart\" onclick=\"quickchart('df-a207ad3f-daa3-4acb-8565-9858ff989836')\"\n",
              "            title=\"Suggest charts\"\n",
              "            style=\"display:none;\">\n",
              "\n",
              "<svg xmlns=\"http://www.w3.org/2000/svg\" height=\"24px\"viewBox=\"0 0 24 24\"\n",
              "     width=\"24px\">\n",
              "    <g>\n",
              "        <path d=\"M19 3H5c-1.1 0-2 .9-2 2v14c0 1.1.9 2 2 2h14c1.1 0 2-.9 2-2V5c0-1.1-.9-2-2-2zM9 17H7v-7h2v7zm4 0h-2V7h2v10zm4 0h-2v-4h2v4z\"/>\n",
              "    </g>\n",
              "</svg>\n",
              "  </button>\n",
              "\n",
              "<style>\n",
              "  .colab-df-quickchart {\n",
              "      --bg-color: #E8F0FE;\n",
              "      --fill-color: #1967D2;\n",
              "      --hover-bg-color: #E2EBFA;\n",
              "      --hover-fill-color: #174EA6;\n",
              "      --disabled-fill-color: #AAA;\n",
              "      --disabled-bg-color: #DDD;\n",
              "  }\n",
              "\n",
              "  [theme=dark] .colab-df-quickchart {\n",
              "      --bg-color: #3B4455;\n",
              "      --fill-color: #D2E3FC;\n",
              "      --hover-bg-color: #434B5C;\n",
              "      --hover-fill-color: #FFFFFF;\n",
              "      --disabled-bg-color: #3B4455;\n",
              "      --disabled-fill-color: #666;\n",
              "  }\n",
              "\n",
              "  .colab-df-quickchart {\n",
              "    background-color: var(--bg-color);\n",
              "    border: none;\n",
              "    border-radius: 50%;\n",
              "    cursor: pointer;\n",
              "    display: none;\n",
              "    fill: var(--fill-color);\n",
              "    height: 32px;\n",
              "    padding: 0;\n",
              "    width: 32px;\n",
              "  }\n",
              "\n",
              "  .colab-df-quickchart:hover {\n",
              "    background-color: var(--hover-bg-color);\n",
              "    box-shadow: 0 1px 2px rgba(60, 64, 67, 0.3), 0 1px 3px 1px rgba(60, 64, 67, 0.15);\n",
              "    fill: var(--button-hover-fill-color);\n",
              "  }\n",
              "\n",
              "  .colab-df-quickchart-complete:disabled,\n",
              "  .colab-df-quickchart-complete:disabled:hover {\n",
              "    background-color: var(--disabled-bg-color);\n",
              "    fill: var(--disabled-fill-color);\n",
              "    box-shadow: none;\n",
              "  }\n",
              "\n",
              "  .colab-df-spinner {\n",
              "    border: 2px solid var(--fill-color);\n",
              "    border-color: transparent;\n",
              "    border-bottom-color: var(--fill-color);\n",
              "    animation:\n",
              "      spin 1s steps(1) infinite;\n",
              "  }\n",
              "\n",
              "  @keyframes spin {\n",
              "    0% {\n",
              "      border-color: transparent;\n",
              "      border-bottom-color: var(--fill-color);\n",
              "      border-left-color: var(--fill-color);\n",
              "    }\n",
              "    20% {\n",
              "      border-color: transparent;\n",
              "      border-left-color: var(--fill-color);\n",
              "      border-top-color: var(--fill-color);\n",
              "    }\n",
              "    30% {\n",
              "      border-color: transparent;\n",
              "      border-left-color: var(--fill-color);\n",
              "      border-top-color: var(--fill-color);\n",
              "      border-right-color: var(--fill-color);\n",
              "    }\n",
              "    40% {\n",
              "      border-color: transparent;\n",
              "      border-right-color: var(--fill-color);\n",
              "      border-top-color: var(--fill-color);\n",
              "    }\n",
              "    60% {\n",
              "      border-color: transparent;\n",
              "      border-right-color: var(--fill-color);\n",
              "    }\n",
              "    80% {\n",
              "      border-color: transparent;\n",
              "      border-right-color: var(--fill-color);\n",
              "      border-bottom-color: var(--fill-color);\n",
              "    }\n",
              "    90% {\n",
              "      border-color: transparent;\n",
              "      border-bottom-color: var(--fill-color);\n",
              "    }\n",
              "  }\n",
              "</style>\n",
              "\n",
              "  <script>\n",
              "    async function quickchart(key) {\n",
              "      const quickchartButtonEl =\n",
              "        document.querySelector('#' + key + ' button');\n",
              "      quickchartButtonEl.disabled = true;  // To prevent multiple clicks.\n",
              "      quickchartButtonEl.classList.add('colab-df-spinner');\n",
              "      try {\n",
              "        const charts = await google.colab.kernel.invokeFunction(\n",
              "            'suggestCharts', [key], {});\n",
              "      } catch (error) {\n",
              "        console.error('Error during call to suggestCharts:', error);\n",
              "      }\n",
              "      quickchartButtonEl.classList.remove('colab-df-spinner');\n",
              "      quickchartButtonEl.classList.add('colab-df-quickchart-complete');\n",
              "    }\n",
              "    (() => {\n",
              "      let quickchartButtonEl =\n",
              "        document.querySelector('#df-a207ad3f-daa3-4acb-8565-9858ff989836 button');\n",
              "      quickchartButtonEl.style.display =\n",
              "        google.colab.kernel.accessAllowed ? 'block' : 'none';\n",
              "    })();\n",
              "  </script>\n",
              "</div>\n",
              "\n",
              "    </div>\n",
              "  </div>\n"
            ],
            "application/vnd.google.colaboratory.intrinsic+json": {
              "type": "dataframe"
            }
          },
          "metadata": {},
          "execution_count": 11
        }
      ]
    },
    {
      "cell_type": "code",
      "source": [
        "#1 checking the frequency of purchase by each customer\n",
        "customers=df1['Customer ID'].value_counts()\n",
        "# Filter the DataFrame based on the counts\n",
        "#customers_df = df1[df1['Customer ID'].isin(customers.index)]\n",
        "# print(customers)\n",
        "customers.head(10)\n",
        "#the output of this code tells us that some customers have been consistent in buying items items from the store\n",
        "# example is customer with ID PO-18850 who has visited and bought from the store 97 times\n"
      ],
      "metadata": {
        "colab": {
          "base_uri": "https://localhost:8080/"
        },
        "id": "5OXHPHNp0xnP",
        "outputId": "4a15e833-03d3-4dce-db63-c9a4e318f113"
      },
      "execution_count": 12,
      "outputs": [
        {
          "output_type": "execute_result",
          "data": {
            "text/plain": [
              "PO-18850    97\n",
              "BE-11335    94\n",
              "JG-15805    90\n",
              "SW-20755    89\n",
              "EM-13960    85\n",
              "MY-18295    85\n",
              "MP-17965    84\n",
              "ZC-21910    84\n",
              "CK-12205    83\n",
              "BW-11110    81\n",
              "Name: Customer ID, dtype: int64"
            ]
          },
          "metadata": {},
          "execution_count": 12
        }
      ]
    },
    {
      "cell_type": "code",
      "source": [
        "#2.  Do the high frequent customers are contributing more revenue\n",
        "# Group the data by customer ID and sum the sales for each customer\n",
        "customer_sales = df1.groupby('Customer ID')['Sales'].sum()\n",
        "customer_sales.head()"
      ],
      "metadata": {
        "colab": {
          "base_uri": "https://localhost:8080/"
        },
        "id": "NEjKTe_501nu",
        "outputId": "53bdf794-ae42-4042-de55-f0ac38146423"
      },
      "execution_count": 13,
      "outputs": [
        {
          "output_type": "execute_result",
          "data": {
            "text/plain": [
              "Customer ID\n",
              "AA-10315    13747.41300\n",
              "AA-10375     5884.19500\n",
              "AA-10480    17695.58978\n",
              "AA-10645    15343.89070\n",
              "AA-315       2243.25600\n",
              "Name: Sales, dtype: float64"
            ]
          },
          "metadata": {},
          "execution_count": 13
        }
      ]
    },
    {
      "cell_type": "code",
      "source": [
        "expenditure_by_customer = df1.groupby('Customer ID')['Sales'].sum()\n",
        "\n",
        "frequency_by_customer = df1.groupby('Customer ID').size()\n",
        "\n"
      ],
      "metadata": {
        "id": "DsOAw-dm1Ru2"
      },
      "execution_count": 14,
      "outputs": []
    },
    {
      "cell_type": "code",
      "source": [
        "print(expenditure_by_customer)"
      ],
      "metadata": {
        "colab": {
          "base_uri": "https://localhost:8080/"
        },
        "id": "WVbso3uZ3Z9G",
        "outputId": "ee0f71db-5e22-4503-a795-3bda4177abd3"
      },
      "execution_count": 15,
      "outputs": [
        {
          "output_type": "stream",
          "name": "stdout",
          "text": [
            "Customer ID\n",
            "AA-10315    13747.41300\n",
            "AA-10375     5884.19500\n",
            "AA-10480    17695.58978\n",
            "AA-10645    15343.89070\n",
            "AA-315       2243.25600\n",
            "               ...     \n",
            "YS-21880    18703.60600\n",
            "ZC-11910        7.17300\n",
            "ZC-21910    28472.81926\n",
            "ZD-11925     2951.22600\n",
            "ZD-21925     9479.34440\n",
            "Name: Sales, Length: 1590, dtype: float64\n"
          ]
        }
      ]
    },
    {
      "cell_type": "code",
      "source": [
        "print(frequency_by_customer)"
      ],
      "metadata": {
        "colab": {
          "base_uri": "https://localhost:8080/"
        },
        "id": "v37RvWAD5mTz",
        "outputId": "15e76ef5-b395-4d8f-807c-7a3605480990"
      },
      "execution_count": 16,
      "outputs": [
        {
          "output_type": "stream",
          "name": "stdout",
          "text": [
            "Customer ID\n",
            "AA-10315    42\n",
            "AA-10375    42\n",
            "AA-10480    38\n",
            "AA-10645    73\n",
            "AA-315       8\n",
            "            ..\n",
            "YS-21880    54\n",
            "ZC-11910     1\n",
            "ZC-21910    84\n",
            "ZD-11925    18\n",
            "ZD-21925    36\n",
            "Length: 1590, dtype: int64\n"
          ]
        }
      ]
    },
    {
      "cell_type": "code",
      "source": [
        "# sns.set_theme()\n",
        "# plt.scatter(frequency_by_customer,expenditure_by_customer)\n",
        "# correlation='positive'"
      ],
      "metadata": {
        "id": "U228DnBc6DgI"
      },
      "execution_count": 17,
      "outputs": []
    },
    {
      "cell_type": "code",
      "source": [
        "\n",
        "sns.set_theme()\n",
        "sns.relplot(x=frequency_by_customer,y=expenditure_by_customer)\n",
        "plt.xlabel(\"Frequency\")\n",
        "correlation='positive'\n",
        "plt.show()\n"
      ],
      "metadata": {
        "colab": {
          "base_uri": "https://localhost:8080/",
          "height": 0
        },
        "id": "E1lKtL8f7Hnr",
        "outputId": "b40d8f15-7319-45d4-b95a-643e82e30237"
      },
      "execution_count": 18,
      "outputs": [
        {
          "output_type": "display_data",
          "data": {
            "text/plain": [
              "<Figure size 500x500 with 1 Axes>"
            ],
            "image/png": "[encoded data removed]"
          },
          "metadata": {}
        }
      ]
    },
    {
      "cell_type": "code",
      "source": [
        "# The data above, shows that customer frequency contributed to high revenue.\n",
        "# from the graph, it shows that from an average frequency of 40 and above, the revenues were"
      ],
      "metadata": {
        "id": "oJYRmyMD4Fsj"
      },
      "execution_count": 19,
      "outputs": []
    },
    {
      "cell_type": "code",
      "source": [
        "#3 Getting the profit Margin across the buckets.\n",
        "# df1['Category'].value_counts()\n",
        "profits=df1.groupby(['Sub-Category'])['Profit'].sum()\n",
        "print(profits)"
      ],
      "metadata": {
        "colab": {
          "base_uri": "https://localhost:8080/"
        },
        "id": "dISMOv5X8QBj",
        "outputId": "22251a26-b731-479b-8a24-26a836078710"
      },
      "execution_count": 20,
      "outputs": [
        {
          "output_type": "stream",
          "name": "stdout",
          "text": [
            "Sub-Category\n",
            "Accessories    129626.30620\n",
            "Appliances     141680.58940\n",
            "Art             57953.91090\n",
            "Binders         72449.84600\n",
            "Bookcases      161924.41950\n",
            "Chairs         140396.26750\n",
            "Copiers        258567.54818\n",
            "Envelopes       29601.11630\n",
            "Fasteners       11525.42410\n",
            "Furnishings     46967.42550\n",
            "Labels          15010.51200\n",
            "Machines        58867.87300\n",
            "Paper           59207.68270\n",
            "Phones         216717.00580\n",
            "Storage        108461.48980\n",
            "Supplies        22583.26310\n",
            "Tables         -64083.38870\n",
            "Name: Profit, dtype: float64\n"
          ]
        }
      ]
    },
    {
      "cell_type": "code",
      "source": [
        "#4 Most profitable customer segment\n",
        "M_seg=df1.groupby('Segment')['Profit'].sum()\n",
        "print(M_seg)\n",
        "# The most profitable customer segment turns to be the Consumer segement"
      ],
      "metadata": {
        "colab": {
          "base_uri": "https://localhost:8080/"
        },
        "id": "6LxytQJV8ZY5",
        "outputId": "796d28af-932a-4d06-c35c-80cb13b469c8"
      },
      "execution_count": 21,
      "outputs": [
        {
          "output_type": "stream",
          "name": "stdout",
          "text": [
            "Segment\n",
            "Consumer       749239.78206\n",
            "Corporate      441208.32866\n",
            "Home Office    277009.18056\n",
            "Name: Profit, dtype: float64\n"
          ]
        }
      ]
    },
    {
      "cell_type": "code",
      "source": [
        "#5 Customer Distribution across the country\n",
        "country=df1['Country'].value_counts()\n",
        "print(country)\n"
      ],
      "metadata": {
        "colab": {
          "base_uri": "https://localhost:8080/"
        },
        "id": "cjoxj-8DETT9",
        "outputId": "1d83e80c-6d9b-4353-e5ef-f6f822da014a"
      },
      "execution_count": 22,
      "outputs": [
        {
          "output_type": "stream",
          "name": "stdout",
          "text": [
            "United States    9994\n",
            "Australia        2837\n",
            "France           2827\n",
            "Mexico           2644\n",
            "Germany          2065\n",
            "                 ... \n",
            "Bahrain             2\n",
            "South Sudan         2\n",
            "Chad                2\n",
            "Burundi             2\n",
            "Eritrea             2\n",
            "Name: Country, Length: 147, dtype: int64\n"
          ]
        }
      ]
    },
    {
      "cell_type": "code",
      "source": [],
      "metadata": {
        "id": "_HONbGubFWOX"
      },
      "execution_count": 22,
      "outputs": []
    },
    {
      "cell_type": "code",
      "source": [],
      "metadata": {
        "id": "uaTNziZ6GYRM"
      },
      "execution_count": 22,
      "outputs": []
    },
    {
      "cell_type": "markdown",
      "source": [
        "## Product Analysis"
      ],
      "metadata": {
        "id": "VMfmikHjHUev"
      }
    },
    {
      "cell_type": "code",
      "source": [
        "#1 The countries with their highest sales\n",
        "country_sales=df1.groupby(['Country'])['Sales'].sum()\n",
        "print(country_sales)"
      ],
      "metadata": {
        "colab": {
          "base_uri": "https://localhost:8080/"
        },
        "id": "w-RXZzEtHZHN",
        "outputId": "d1bdd607-82e7-4cc2-ad21-26fbec55d695"
      },
      "execution_count": 24,
      "outputs": [
        {
          "output_type": "stream",
          "name": "stdout",
          "text": [
            "Country\n",
            "Afghanistan    21673.32000\n",
            "Albania         3888.12000\n",
            "Algeria        36091.59000\n",
            "Angola         25554.00000\n",
            "Argentina      57511.78328\n",
            "                  ...     \n",
            "Venezuela      26587.82956\n",
            "Vietnam        65800.19940\n",
            "Yemen           2465.71200\n",
            "Zambia         26035.50000\n",
            "Zimbabwe        3765.10500\n",
            "Name: Sales, Length: 147, dtype: float64\n"
          ]
        }
      ]
    },
    {
      "cell_type": "code",
      "source": [
        "#2 Top five profit making products on a yearly basis\n",
        "# converting the date to a datetime module\n",
        "df1['Order Date']=pd.to_datetime(df1['Order Date'])"
      ],
      "metadata": {
        "colab": {
          "base_uri": "https://localhost:8080/"
        },
        "id": "L8Y4VVL1H-6l",
        "outputId": "ed05731b-6f26-4951-ce39-9603a371318f"
      },
      "execution_count": 29,
      "outputs": [
        {
          "output_type": "stream",
          "name": "stderr",
          "text": [
            "<ipython-input-29-87fc4f9c441f>:2: UserWarning: Parsing dates in DD/MM/YYYY format when dayfirst=False (the default) was specified. This may lead to inconsistently parsed dates! Specify a format to ensure consistent parsing.\n",
            "  df1['Order Date']=pd.to_datetime(df1['Order Date'])\n"
          ]
        }
      ]
    },
    {
      "cell_type": "code",
      "source": [
        "df1['Order Date'].head(10)"
      ],
      "metadata": {
        "colab": {
          "base_uri": "https://localhost:8080/"
        },
        "id": "pizEJUo0JDf0",
        "outputId": "53517b4d-7553-4e74-fccc-2fd62e2f162d"
      },
      "execution_count": 31,
      "outputs": [
        {
          "output_type": "execute_result",
          "data": {
            "text/plain": [
              "0   2012-07-31\n",
              "1   2013-05-02\n",
              "2   2013-10-17\n",
              "3   2013-01-28\n",
              "4   2013-05-11\n",
              "5   2013-06-28\n",
              "6   2011-07-11\n",
              "7   2012-04-14\n",
              "8   2014-10-14\n",
              "9   2012-01-28\n",
              "Name: Order Date, dtype: datetime64[ns]"
            ]
          },
          "metadata": {},
          "execution_count": 31
        }
      ]
    },
    {
      "cell_type": "code",
      "source": [
        "df1['Year'] = df1['Order Date'].dt.year\n",
        "\n",
        "# Group the data by year and product, and calculate profit\n",
        "grouped_data = df1.groupby(['Year', 'Sub-Category'])['Profit'].sum().reset_index()\n",
        "\n",
        "# Find the top profit product for each year\n",
        "for year, data in top_profit_products.groupby('Year'):\n",
        "    print(f\"Year: {year}\\n{'-'*20}\")  # Print the year with a line separator\n",
        "    print(data)  # Print the top profit products for the year\n",
        "    print()  # Print an empty line for separation"
      ],
      "metadata": {
        "colab": {
          "base_uri": "https://localhost:8080/"
        },
        "id": "cRj3PuYJMOH5",
        "outputId": "32c58bf7-ac88-4edc-a9ad-785723f2b2be"
      },
      "execution_count": 38,
      "outputs": [
        {
          "output_type": "stream",
          "name": "stdout",
          "text": [
            "Year: 2011\n",
            "--------------------\n",
            "   Year Sub-Category       Profit\n",
            "0  2011       Phones  53927.48950\n",
            "1  2011      Copiers  30375.09344\n",
            "2  2011       Chairs  29943.15710\n",
            "3  2011    Bookcases  27518.85750\n",
            "4  2011   Appliances  22838.44130\n",
            "\n",
            "Year: 2012\n",
            "--------------------\n",
            "   Year Sub-Category      Profit\n",
            "5  2012      Copiers  51843.2276\n",
            "6  2012       Phones  45223.0498\n",
            "7  2012  Accessories  33507.1002\n",
            "8  2012       Chairs  28755.3467\n",
            "9  2012    Bookcases  28137.2671\n",
            "\n",
            "Year: 2013\n",
            "--------------------\n",
            "    Year Sub-Category       Profit\n",
            "10  2013      Copiers  72300.69118\n",
            "11  2013       Phones  46908.82520\n",
            "12  2013    Bookcases  43049.24440\n",
            "13  2013   Appliances  41485.51600\n",
            "14  2013       Chairs  40449.49210\n",
            "\n",
            "Year: 2014\n",
            "--------------------\n",
            "    Year Sub-Category        Profit\n",
            "15  2014      Copiers  104048.53596\n",
            "16  2014       Phones   70657.64130\n",
            "17  2014    Bookcases   63219.05050\n",
            "18  2014   Appliances   53040.50050\n",
            "19  2014  Accessories   41593.92860\n",
            "\n"
          ]
        }
      ]
    },
    {
      "cell_type": "code",
      "source": [
        "#3  How is the product price varying with sales - Is there any increase in sales with the decrease in price at any level?\n"
      ],
      "metadata": {
        "id": "UCSGo8yBQ7Tp"
      },
      "execution_count": 36,
      "outputs": []
    },
    {
      "cell_type": "code",
      "source": [],
      "metadata": {
        "id": "VPrW21OBRJ3J"
      },
      "execution_count": null,
      "outputs": []
    }
  ]
}